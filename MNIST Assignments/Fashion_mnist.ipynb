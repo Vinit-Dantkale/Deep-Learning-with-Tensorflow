{
  "nbformat": 4,
  "nbformat_minor": 0,
  "metadata": {
    "colab": {
      "name": "Fashion_mnist.ipynb",
      "version": "0.3.2",
      "provenance": [],
      "collapsed_sections": []
    },
    "kernelspec": {
      "name": "python3",
      "display_name": "Python 3"
    }
  },
  "cells": [
    {
      "cell_type": "code",
      "metadata": {
        "id": "c0K1CezoriMq",
        "colab_type": "code",
        "colab": {}
      },
      "source": [
        "import tensorflow as tf;\n",
        "import numpy as np\n",
        "import matplotlib.pyplot as plt\n",
        "from tensorflow import keras;"
      ],
      "execution_count": 0,
      "outputs": []
    },
    {
      "cell_type": "code",
      "metadata": {
        "id": "kX75j0Z3gYt0",
        "colab_type": "code",
        "colab": {}
      },
      "source": [
        "def one_hot(arr):\n",
        "  targets = np.array(arr).reshape(-1)\n",
        "  return np.eye(10)[targets]"
      ],
      "execution_count": 0,
      "outputs": []
    },
    {
      "cell_type": "code",
      "metadata": {
        "id": "RMTkh7uQrmU4",
        "colab_type": "code",
        "colab": {}
      },
      "source": [
        "fashion_mnist=tf.keras.datasets.fashion_mnist;\n",
        "(xt_train,yt_train),(xt_test,yt_test)=fashion_mnist.load_data()\n",
        "\n",
        "classes=['T-shirt/top','Trouser','Pullover','Dress','Coat','Sandal','Shirt','Sneaker','Bag','Ankle boot']\n",
        "\n",
        "x_train=np.reshape(xt_train,(xt_train.shape[0],784))\n",
        "y_train=one_hot(yt_train)\n",
        "\n",
        "x_test=np.reshape(xt_test,(xt_test.shape[0],784))\n",
        "y_test=one_hot(yt_test)\n",
        "\n",
        "X=tf.placeholder('float')\n",
        "Y=tf.placeholder('float')\n",
        "\n",
        "batch_size=1000"
      ],
      "execution_count": 0,
      "outputs": []
    },
    {
      "cell_type": "code",
      "metadata": {
        "id": "CiyR3W1Gr6BJ",
        "colab_type": "code",
        "outputId": "19410b33-c7ac-4c05-be81-c92d0c3ab4af",
        "colab": {
          "base_uri": "https://localhost:8080/",
          "height": 398
        }
      },
      "source": [
        "temp=[]\n",
        "j=1\n",
        "for i in range(0,yt_train.shape[0]):\n",
        "  if yt_train[i] not in temp:\n",
        "    temp.append(yt_train[i])\n",
        "    plt.subplot(2,5,j)\n",
        "    plt.imshow(xt_train[i])\n",
        "    print(yt_train[i])\n",
        "    j=j+1"
      ],
      "execution_count": 28,
      "outputs": [
        {
          "output_type": "stream",
          "text": [
            "9\n",
            "0\n",
            "3\n",
            "2\n",
            "7\n",
            "5\n",
            "1\n",
            "6\n",
            "4\n",
            "8\n"
          ],
          "name": "stdout"
        },
        {
          "output_type": "display_data",
          "data": {
            "image/png": "[encoded data removed]",
            "text/plain": [
              "<Figure size 432x288 with 10 Axes>"
            ]
          },
          "metadata": {
            "tags": []
          }
        }
      ]
    },
    {
      "cell_type": "code",
      "metadata": {
        "id": "_c8rM24usEtf",
        "colab_type": "code",
        "colab": {}
      },
      "source": [
        "nn1=500\n",
        "nn2=500\n",
        "nn3=500\n",
        "ol=10\n",
        "\n",
        "hidden_layer1={\n",
        "    'weights':tf.Variable(tf.random_normal([784,nn1]),dtype=tf.float32),\n",
        "    'bias':tf.Variable(tf.ones([1,nn1]),dtype=tf.float32)\n",
        "}\n",
        "\n",
        "hidden_layer2={\n",
        "    'weights':tf.Variable(tf.random_normal([nn1,nn2]),dtype=tf.float32),\n",
        "    'bias':tf.Variable(tf.ones([1,nn2]),dtype=tf.float32)\n",
        "}\n",
        "\n",
        "hidden_layer3={\n",
        "    'weights':tf.Variable(tf.random_normal([nn2,nn3]),dtype=tf.float32),\n",
        "    'bias':tf.Variable(tf.ones([1,nn3]),dtype=tf.float32)\n",
        "}\n",
        "\n",
        "output_layer={\n",
        "    'weights':tf.Variable(tf.random_normal([nn3,ol]),dtype=tf.float32),\n",
        "    'bias':tf.Variable(tf.ones([1,ol]),dtype=tf.float32)\n",
        "}"
      ],
      "execution_count": 0,
      "outputs": []
    },
    {
      "cell_type": "code",
      "metadata": {
        "id": "ihzhzCz1wmnR",
        "colab_type": "code",
        "colab": {}
      },
      "source": [
        "def forward_propogation(X):\n",
        "  layer1=tf.sigmoid(tf.matmul(X,hidden_layer1['weights'])+hidden_layer1['bias'])\n",
        "  layer2=tf.sigmoid(tf.matmul(layer1,hidden_layer2['weights'])+hidden_layer2['bias'])\n",
        "  layer3=tf.sigmoid(tf.matmul(layer2,hidden_layer3['weights'])+hidden_layer3['bias'])\n",
        "  output=tf.matmul(layer3,output_layer['weights'])+output_layer['bias']\n",
        "  return output"
      ],
      "execution_count": 0,
      "outputs": []
    },
    {
      "cell_type": "code",
      "metadata": {
        "id": "Xmhf3t0EkDeF",
        "colab_type": "code",
        "colab": {}
      },
      "source": [
        "def training_model(X,Y):\n",
        "  predicted_values=forward_propogation(X)\n",
        "  \n",
        "  cost=tf.reduce_mean(tf.nn.softmax_cross_entropy_with_logits(logits=predicted_values,labels=Y))\n",
        "  \n",
        "  optimizer=tf.train.AdamOptimizer(0.001).minimize(cost)\n",
        "  \n",
        "  total_epochs=100\n",
        "  nbatches=int(x_train.shape[0]/batch_size)\n",
        "  \n",
        "  with tf.Session() as sess:\n",
        "    init=tf.global_variables_initializer()\n",
        "    sess.run(init)\n",
        "    \n",
        "    for i in range(0,100):\n",
        "      epoch_loss=0\n",
        "      for j in range(0,nbatches):\n",
        "        x=x_train[j*batch_size:(j+1)*batch_size]\n",
        "        y=y_train[j*batch_size:(j+1)*batch_size]\n",
        "        \n",
        "        _,c=sess.run([optimizer,cost],feed_dict={X:x,Y:y})\n",
        "        epoch_loss+=c\n",
        "      if i%10==0:\n",
        "        print('Epoch Loss for epoch no ',i,' : ',c)\n",
        "    \n",
        "    pre=tf.argmax(predicted_values,1)\n",
        "    tes=tf.argmax(Y,1)\n",
        "    check=tf.equal(pre,tes)\n",
        "    accuracy=tf.reduce_mean(tf.cast(check,tf.float32))\n",
        "    \n",
        "    acc,pr,te=sess.run([accuracy,pre,tes],feed_dict={X:x_test,Y:y_test})\n",
        "    print(\"Accuracy: \",acc)"
      ],
      "execution_count": 0,
      "outputs": []
    },
    {
      "cell_type": "code",
      "metadata": {
        "id": "qVthC7T4oKI7",
        "colab_type": "code",
        "outputId": "9ddd8236-f139-4857-899e-0b00aed19979",
        "colab": {
          "base_uri": "https://localhost:8080/",
          "height": 204
        }
      },
      "source": [
        "training_model(X,Y)"
      ],
      "execution_count": 32,
      "outputs": [
        {
          "output_type": "stream",
          "text": [
            "Epoch Loss for epoch no  0  :  2.3603082\n",
            "Epoch Loss for epoch no  10  :  0.71236116\n",
            "Epoch Loss for epoch no  20  :  0.53515965\n",
            "Epoch Loss for epoch no  30  :  0.5105397\n",
            "Epoch Loss for epoch no  40  :  0.48005128\n",
            "Epoch Loss for epoch no  50  :  0.46681434\n",
            "Epoch Loss for epoch no  60  :  0.43389076\n",
            "Epoch Loss for epoch no  70  :  0.44836816\n",
            "Epoch Loss for epoch no  80  :  0.42669305\n",
            "Epoch Loss for epoch no  90  :  0.3903013\n",
            "Accuracy:  0.8203\n"
          ],
          "name": "stdout"
        }
      ]
    }
  ]
}