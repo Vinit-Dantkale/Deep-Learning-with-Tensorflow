{
  "nbformat": 4,
  "nbformat_minor": 0,
  "metadata": {
    "colab": {
      "name": "NAND Perceptron.ipynb",
      "version": "0.3.2",
      "provenance": []
    },
    "kernelspec": {
      "name": "python3",
      "display_name": "Python 3"
    }
  },
  "cells": [
    {
      "metadata": {
        "id": "AQi8w-HwLm_C",
        "colab_type": "text"
      },
      "cell_type": "markdown",
      "source": [
        "# Logic Gates Perceptron representation"
      ]
    },
    {
      "metadata": {
        "id": "m0sP__VpK8GY",
        "colab_type": "text"
      },
      "cell_type": "markdown",
      "source": [
        "**NAND Logic Perceptron**\n",
        "\n"
      ]
    },
    {
      "metadata": {
        "id": "YrXTRtnAX0eg",
        "colab_type": "code",
        "colab": {}
      },
      "cell_type": "code",
      "source": [
        "import tensorflow as tf\n",
        "import numpy as np"
      ],
      "execution_count": 0,
      "outputs": []
    },
    {
      "metadata": {
        "id": "8OsOPg9MNCSh",
        "colab_type": "text"
      },
      "cell_type": "markdown",
      "source": [
        "**Define the training example set: **<br>\n",
        "        True: 1.0 <br>\n",
        "        False: 0.0 <br>\n",
        "        bias: 1.0 <br>\n",
        "**Learning Rate = 0.1**\n",
        "\n"
      ]
    },
    {
      "metadata": {
        "id": "k8kTOCnwX4Bn",
        "colab_type": "code",
        "colab": {}
      },
      "cell_type": "code",
      "source": [
        "training_input=tf.Variable([[0.0,0.0,1.0],[1.0,0.0,1.0],[0.0,1.0,1.0],[1.0,1.0,1.0]],dtype=tf.float16) \n",
        "training_output=tf.Variable([[1.0],[1.0],[1.0],[0.0]],dtype=tf.float16)\n",
        "learning_rate=0.1"
      ],
      "execution_count": 0,
      "outputs": []
    },
    {
      "metadata": {
        "id": "6IZzj2CSN8W7",
        "colab_type": "text"
      },
      "cell_type": "markdown",
      "source": [
        "**Layer 1:**<br>\n",
        "Weights and bias of the perceptron"
      ]
    },
    {
      "metadata": {
        "id": "rjP_tyy6YPDf",
        "colab_type": "code",
        "colab": {}
      },
      "cell_type": "code",
      "source": [
        "and_nn={\n",
        "    'weights':tf.Variable(tf.random_normal([3,1],dtype=tf.float16))\n",
        "}"
      ],
      "execution_count": 0,
      "outputs": []
    },
    {
      "metadata": {
        "id": "qdqmFQlKUl8A",
        "colab_type": "text"
      },
      "cell_type": "markdown",
      "source": [
        "**Testing Data**"
      ]
    },
    {
      "metadata": {
        "id": "DfafcEjsUoBW",
        "colab_type": "code",
        "colab": {}
      },
      "cell_type": "code",
      "source": [
        "testing_input=tf.Variable([[1.0,1.0,1.0],[1.0,1.0,1.0],[0.0,0.0,1.0],[1.0,0.0,1.0]],dtype=tf.float16)\n",
        "testing_output=tf.Variable([[0.0],[0.0],[1.0],[1.0]],dtype=tf.float16)\n",
        "\n",
        "test_output=tf.greater(tf.matmul(testing_input,and_nn['weights']),0)"
      ],
      "execution_count": 0,
      "outputs": []
    },
    {
      "metadata": {
        "id": "CTT9kznsOIys",
        "colab_type": "text"
      },
      "cell_type": "markdown",
      "source": [
        "**Activation( input*weight + bias )**"
      ]
    },
    {
      "metadata": {
        "id": "qkKNeCIgY-lb",
        "colab_type": "code",
        "colab": {}
      },
      "cell_type": "code",
      "source": [
        "output=tf.sigmoid(tf.matmul(training_input,and_nn['weights'])) "
      ],
      "execution_count": 0,
      "outputs": []
    },
    {
      "metadata": {
        "id": "bFyKm3dzOYSn",
        "colab_type": "text"
      },
      "cell_type": "markdown",
      "source": [
        "**Error = Expected Output - Actual Output**"
      ]
    },
    {
      "metadata": {
        "id": "ggQciBP8Zop9",
        "colab_type": "code",
        "colab": {}
      },
      "cell_type": "code",
      "source": [
        "error=training_output-output"
      ],
      "execution_count": 0,
      "outputs": []
    },
    {
      "metadata": {
        "id": "KFbyJfDUOnya",
        "colab_type": "text"
      },
      "cell_type": "markdown",
      "source": [
        "**Mean Squared Error = reduce_mean( error^2  )**"
      ]
    },
    {
      "metadata": {
        "id": "Box-_-RgZr8F",
        "colab_type": "code",
        "colab": {}
      },
      "cell_type": "code",
      "source": [
        "mse=tf.reduce_mean(tf.square(error))"
      ],
      "execution_count": 0,
      "outputs": []
    },
    {
      "metadata": {
        "id": "hmeVs4jkPX-A",
        "colab_type": "text"
      },
      "cell_type": "markdown",
      "source": [
        "**Optimize Cost Function i.e MSE and adjust weights**"
      ]
    },
    {
      "metadata": {
        "id": "DUtgsxcvaLbY",
        "colab_type": "code",
        "colab": {}
      },
      "cell_type": "code",
      "source": [
        "delta=tf.matmul(training_input,error,transpose_a=True) #2x1\n",
        "temp=and_nn['weights']+(learning_rate*delta)\n",
        "assign_weights=tf.assign(and_nn['weights'],temp)"
      ],
      "execution_count": 0,
      "outputs": []
    },
    {
      "metadata": {
        "id": "EltBupiGQNe1",
        "colab_type": "text"
      },
      "cell_type": "markdown",
      "source": [
        "**Epoch = Forward Propogation + Back Propogation <br> Max epochs = 2000**"
      ]
    },
    {
      "metadata": {
        "id": "IOoR2Yt0bAH3",
        "colab_type": "code",
        "outputId": "c5911d58-7eb0-455b-f6c5-7ea936fedae8",
        "colab": {
          "base_uri": "https://localhost:8080/",
          "height": 84
        }
      },
      "cell_type": "code",
      "source": [
        "max_epochs=2000\n",
        "\n",
        "sess = tf.Session()\n",
        "init = tf.global_variables_initializer()\n",
        "sess.run(init)\n",
        "for i in range(0,max_epochs):\n",
        "  sess.run(assign_weights)\n",
        "print('Final Theta:',sess.run(and_nn['weights']))\n",
        "print('MSE:',sess.run(mse))"
      ],
      "execution_count": 0,
      "outputs": [
        {
          "output_type": "stream",
          "text": [
            "Final Theta: [[-5.234]\n",
            " [-5.234]\n",
            " [ 8.   ]]\n",
            "MSE: 0.003242\n"
          ],
          "name": "stdout"
        }
      ]
    },
    {
      "metadata": {
        "id": "UznqgMCDRA7g",
        "colab_type": "text"
      },
      "cell_type": "markdown",
      "source": [
        "**Testing**"
      ]
    },
    {
      "metadata": {
        "id": "3PHGdgV7QbPS",
        "colab_type": "code",
        "outputId": "adefe00c-1ec5-4994-e24f-a3c7fe850585",
        "colab": {
          "base_uri": "https://localhost:8080/",
          "height": 185
        }
      },
      "cell_type": "code",
      "source": [
        "print('Testing Input: \\n',sess.run(testing_input))\n",
        "print('Output: \\n',sess.run(test_output))"
      ],
      "execution_count": 0,
      "outputs": [
        {
          "output_type": "stream",
          "text": [
            "Testing Input: \n",
            " [[1. 1. 1.]\n",
            " [1. 1. 1.]\n",
            " [0. 0. 1.]\n",
            " [1. 0. 1.]]\n",
            "Output: \n",
            " [[False]\n",
            " [False]\n",
            " [ True]\n",
            " [ True]]\n"
          ],
          "name": "stdout"
        }
      ]
    },
    {
      "metadata": {
        "id": "mjT2ENNrRtk_",
        "colab_type": "code",
        "colab": {}
      },
      "cell_type": "code",
      "source": [
        "sess.close()"
      ],
      "execution_count": 0,
      "outputs": []
    }
  ]
}