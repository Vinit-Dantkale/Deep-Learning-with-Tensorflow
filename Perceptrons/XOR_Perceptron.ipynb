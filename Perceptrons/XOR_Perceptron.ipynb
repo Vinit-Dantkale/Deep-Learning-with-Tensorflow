{
  "nbformat": 4,
  "nbformat_minor": 0,
  "metadata": {
    "colab": {
      "name": "XOR Perceptron.ipynb",
      "version": "0.3.2",
      "provenance": []
    },
    "kernelspec": {
      "name": "python3",
      "display_name": "Python 3"
    },
    "accelerator": "GPU"
  },
  "cells": [
    {
      "metadata": {
        "id": "IdreabFT1mH2",
        "colab_type": "text"
      },
      "cell_type": "markdown",
      "source": [
        "# Logic Gate using Perceptron"
      ]
    },
    {
      "metadata": {
        "id": "xsYLrHBE1xJB",
        "colab_type": "text"
      },
      "cell_type": "markdown",
      "source": [
        "**XOR Gate (Multilayer Perceptron)**"
      ]
    },
    {
      "metadata": {
        "id": "KssqUWYjRS2-",
        "colab_type": "code",
        "colab": {}
      },
      "cell_type": "code",
      "source": [
        "import tensorflow as tf"
      ],
      "execution_count": 0,
      "outputs": []
    },
    {
      "metadata": {
        "id": "TDP-zz9h13bo",
        "colab_type": "text"
      },
      "cell_type": "markdown",
      "source": [
        "**Training Data**"
      ]
    },
    {
      "metadata": {
        "id": "rarrc6qHRVu4",
        "colab_type": "code",
        "colab": {}
      },
      "cell_type": "code",
      "source": [
        "training_input=tf.Variable([[0.0,0.0],[1.0,0.0],[0.0,1.0],[1.0,1.0]],dtype=tf.float32) \n",
        "training_output=tf.Variable([[0.0],[1.0],[1.0],[0.0]],dtype=tf.float32)\n",
        "learning_rate=1.0"
      ],
      "execution_count": 0,
      "outputs": []
    },
    {
      "metadata": {
        "id": "-RooMkG1165u",
        "colab_type": "text"
      },
      "cell_type": "markdown",
      "source": [
        "**Step Function**\n",
        "\n",
        "if -ve : return 0 else 1"
      ]
    },
    {
      "metadata": {
        "id": "WlILPyD6RurB",
        "colab_type": "code",
        "colab": {}
      },
      "cell_type": "code",
      "source": [
        "def step(x):\n",
        "    is_greater = tf.greater(x, 0)\n",
        "    as_float = tf.cast(is_greater,dtype=tf.float32)\n",
        "    return tf.nn.relu(as_float)"
      ],
      "execution_count": 0,
      "outputs": []
    },
    {
      "metadata": {
        "id": "rwGoEofL2KA_",
        "colab_type": "text"
      },
      "cell_type": "markdown",
      "source": [
        "Derivative for backpropogation"
      ]
    },
    {
      "metadata": {
        "id": "HIuMH58_R7e1",
        "colab_type": "code",
        "colab": {}
      },
      "cell_type": "code",
      "source": [
        "def derivative(x):\n",
        "  return tf.sigmoid(x)*(1-tf.sigmoid(x))"
      ],
      "execution_count": 0,
      "outputs": []
    },
    {
      "metadata": {
        "id": "TYFEqrcm2Rgr",
        "colab_type": "text"
      },
      "cell_type": "markdown",
      "source": [
        "**Define Layer 1 and Layer 2**"
      ]
    },
    {
      "metadata": {
        "id": "U-yDOCKPRXex",
        "colab_type": "code",
        "colab": {}
      },
      "cell_type": "code",
      "source": [
        "\n",
        "layer1={\n",
        "    'weights':tf.Variable(tf.random_normal([2,2],dtype=tf.float32)),\n",
        "    'bias':tf.Variable(tf.ones([1,2],dtype=tf.float32))\n",
        "}\n",
        "\n",
        "layer2={\n",
        "    'weights':tf.Variable(tf.random_normal([2,1],dtype=tf.float32)),\n",
        "    'bias':tf.Variable(tf.ones([1,1],dtype=tf.float32))\n",
        "}"
      ],
      "execution_count": 0,
      "outputs": []
    },
    {
      "metadata": {
        "id": "QTTo0PDU2YpS",
        "colab_type": "text"
      },
      "cell_type": "markdown",
      "source": [
        "**Forward Propogation**\n",
        "\n",
        "input*weights +bias"
      ]
    },
    {
      "metadata": {
        "id": "qEyJBf4eRy3m",
        "colab_type": "code",
        "colab": {}
      },
      "cell_type": "code",
      "source": [
        "z1=tf.matmul(training_input,layer1['weights'])+layer1['bias']; #4x2\n",
        "a1=tf.sigmoid(z1); #4x2\n",
        "\n",
        "z2=tf.matmul(a1,layer2['weights'])+layer2['bias']; #4x1\n",
        "a2=tf.sigmoid(z2); #4x1"
      ],
      "execution_count": 0,
      "outputs": []
    },
    {
      "metadata": {
        "id": "lDuD8y1_2rQb",
        "colab_type": "text"
      },
      "cell_type": "markdown",
      "source": [
        "**Error and Mean Square Error**"
      ]
    },
    {
      "metadata": {
        "id": "UL7Vi5HfSe_u",
        "colab_type": "code",
        "colab": {}
      },
      "cell_type": "code",
      "source": [
        "error=a2-training_output; #4x1\n",
        "mse=tf.reduce_mean(tf.square(error))"
      ],
      "execution_count": 0,
      "outputs": []
    },
    {
      "metadata": {
        "id": "vFLvz7QI20ZC",
        "colab_type": "text"
      },
      "cell_type": "markdown",
      "source": [
        "**Backpropogation**"
      ]
    },
    {
      "metadata": {
        "id": "cDVXqY_RWGQk",
        "colab_type": "code",
        "colab": {}
      },
      "cell_type": "code",
      "source": [
        "delta_z2=error*derivative(z2); #4x1\n",
        "delta_b2=delta_z2; #4x1\n",
        "delta_w2=tf.matmul(a1,delta_z2,transpose_a=True); #2x1\n",
        "\n",
        "delta_a1=tf.matmul(delta_z2,layer2['weights'],transpose_b=True); #4x2\n",
        "delta_z1=delta_a1*derivative(z1); #4x2\n",
        "delta_b1=delta_z1; #4x2\n",
        "delta_w1=tf.matmul(training_input,delta_z1,transpose_a=True); #2x2"
      ],
      "execution_count": 0,
      "outputs": []
    },
    {
      "metadata": {
        "id": "WwL-Ap6MW6Ui",
        "colab_type": "code",
        "colab": {}
      },
      "cell_type": "code",
      "source": [
        "stp=[\n",
        "tf.assign(layer2['weights'],layer2['weights']-learning_rate*delta_w2), #2x1\n",
        "tf.assign(layer2['bias'],layer2['bias']-tf.reduce_mean(learning_rate*delta_b2,axis=0)), #1x1\n",
        "tf.assign(layer1['weights'],layer1['weights']-learning_rate*delta_w1), #2x2\n",
        "tf.assign(layer1['bias'],layer1['bias']-tf.reduce_mean(learning_rate*delta_b1,axis=0)) #1x2\n",
        "]\n"
      ],
      "execution_count": 0,
      "outputs": []
    },
    {
      "metadata": {
        "id": "ofxkMk-E25mc",
        "colab_type": "text"
      },
      "cell_type": "markdown",
      "source": [
        "**Testing Data**"
      ]
    },
    {
      "metadata": {
        "id": "Qtx92dVApBm1",
        "colab_type": "code",
        "colab": {}
      },
      "cell_type": "code",
      "source": [
        "testing_input=tf.Variable([[1.0,0.0],[1.0,0.0],[0.0,0.0],[0.0,1.0]],dtype=tf.float32) \n",
        "testing_output=tf.Variable([[1.0],[1.0],[0.0],[1.0]],dtype=tf.float32)\n",
        "\n",
        "testz1=tf.matmul(testing_input,layer1['weights'])+layer1['bias']; #4x2\n",
        "testa1=step(testz1); #4x2\n",
        "\n",
        "testz2=tf.matmul(testa1,layer2['weights'])+layer2['bias']; #4x1\n",
        "testa2=step(testz2); #4x1"
      ],
      "execution_count": 0,
      "outputs": []
    },
    {
      "metadata": {
        "id": "nwSUzIjW287Z",
        "colab_type": "text"
      },
      "cell_type": "markdown",
      "source": [
        "**Run the network**"
      ]
    },
    {
      "metadata": {
        "id": "IxF6vbnVe4Zm",
        "colab_type": "code",
        "outputId": "706496c6-3eb0-4be5-a6b6-339613d33317",
        "colab": {
          "base_uri": "https://localhost:8080/",
          "height": 102
        }
      },
      "cell_type": "code",
      "source": [
        "sess=tf.Session()\n",
        "init=tf.global_variables_initializer()\n",
        "sess.run(init)\n",
        "\n",
        "for i in range(0,5000):\n",
        "  ms=sess.run(mse)\n",
        "  sess.run(stp)\n",
        "  if(i%1000==0):\n",
        "    print('MSE:',ms)\n"
      ],
      "execution_count": 24,
      "outputs": [
        {
          "output_type": "stream",
          "text": [
            "MSE: 0.26915494\n",
            "MSE: 0.0036991588\n",
            "MSE: 0.0012211716\n",
            "MSE: 0.0007172792\n",
            "MSE: 0.0005046267\n"
          ],
          "name": "stdout"
        }
      ]
    },
    {
      "metadata": {
        "id": "7E3jeMNY3AHj",
        "colab_type": "text"
      },
      "cell_type": "markdown",
      "source": [
        "**Output of Testing**"
      ]
    },
    {
      "metadata": {
        "id": "ts7_brvDtXuZ",
        "colab_type": "code",
        "outputId": "75fcca46-99c6-487a-bf5a-95c7e5013f34",
        "colab": {
          "base_uri": "https://localhost:8080/",
          "height": 85
        }
      },
      "cell_type": "code",
      "source": [
        "print(sess.run(testa2))"
      ],
      "execution_count": 25,
      "outputs": [
        {
          "output_type": "stream",
          "text": [
            "[[1.]\n",
            " [1.]\n",
            " [0.]\n",
            " [1.]]\n"
          ],
          "name": "stdout"
        }
      ]
    },
    {
      "metadata": {
        "id": "29qDiiXEuhb5",
        "colab_type": "code",
        "colab": {}
      },
      "cell_type": "code",
      "source": [
        "sess.close()"
      ],
      "execution_count": 0,
      "outputs": []
    }
  ]
}